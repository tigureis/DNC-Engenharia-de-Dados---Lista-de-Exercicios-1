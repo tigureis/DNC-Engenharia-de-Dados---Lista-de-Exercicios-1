{
  "nbformat": 4,
  "nbformat_minor": 0,
  "metadata": {
    "colab": {
      "provenance": [],
      "authorship_tag": "ABX9TyO67oFWIUCe5MtLbMX4cT1S",
      "include_colab_link": true
    },
    "kernelspec": {
      "name": "python3",
      "display_name": "Python 3"
    },
    "language_info": {
      "name": "python"
    }
  },
  "cells": [
    {
      "cell_type": "markdown",
      "metadata": {
        "id": "view-in-github",
        "colab_type": "text"
      },
      "source": [
        "<a href=\"https://colab.research.google.com/github/tigureis/DNC-Engenharia-de-Dados---Lista-de-Exercicios-1/blob/main/Untitled0.ipynb\" target=\"_parent\"><img src=\"https://colab.research.google.com/assets/colab-badge.svg\" alt=\"Open In Colab\"/></a>"
      ]
    },
    {
      "cell_type": "code",
      "execution_count": null,
      "metadata": {
        "colab": {
          "base_uri": "https://localhost:8080/"
        },
        "id": "YH9VbjbhEr54",
        "outputId": "1d9664a6-53e2-43e1-8b88-4a456dd43386"
      },
      "outputs": [
        {
          "output_type": "stream",
          "name": "stdout",
          "text": [
            "Nome: eu\n",
            "Digite seu ano de nascimento: 2006\n",
            "Digite o numero do seu mes do nascimento:11\n",
            "Digite o numero do seu dia de nascimento:31\n",
            "Dia de nascimento invalido\n",
            "Digite o numero do seu dia de nascimento:31\n",
            "Dia de nascimento invalido\n",
            "Digite o numero do seu dia de nascimento:0\n",
            "Dia de nascimento invalido\n",
            "Digite o numero do seu dia de nascimento:19\n",
            "Venda Bloqueada\n"
          ]
        }
      ],
      "source": [
        "from datetime import date # Chamando biblioteca(?) data\n",
        "\n",
        "nomeUsuario=input(\"Nome: \") #descobrindo o nome\n",
        "#descobrir e validar o ano de nascimento\n",
        "while True:\n",
        "  anoNascimento=int(input(\"Digite seu ano de nascimento: \"))\n",
        "  if anoNascimento < 1900 or anoNascimento > 2024:\n",
        "    print(\"Ano de nascimento invalido\")\n",
        "  else:\n",
        "    break\n",
        "#Descobrir, pelo ano, se o cliente é maior de idade\n",
        "if (date.today().year-anoNascimento) > 18:\n",
        "  print(\"Venda Liberada\")\n",
        "elif(date.today().year-anoNascimento) < 18:\n",
        "  print(\"Venda Bloqueada\")\n",
        "else:\n",
        "# Caso esteja no ano em que o cliente fara 18 anos, verifica se o cliente ja fez aniversario\n",
        "# Descobre e valida o mes de aniversario\n",
        "  while True:\n",
        "    mesNascimento=int(input(\"Digite o numero do seu mes do nascimento:\"))\n",
        "    if mesNascimento < 1 or mesNascimento > 12:\n",
        "      print(\"Mes de nascimento invalido\")\n",
        "    else:\n",
        "      break\n",
        "#Descobrir, pelo mes, se o cliente Ja fez aniversario\n",
        "  if(mesNascimento < date.today().month):\n",
        "    print(\"Venda Liberada\")\n",
        "  elif(mesNascimento > date.today().month):\n",
        "    print(\"Venda Bloqueada\")\n",
        "  else:\n",
        "# Caso esteja no mes em que o cliente fara 18 anos, verifica se o cliente ja fez aniversario\n",
        "# Descobre e valida o dia de aniversario\n",
        "    while True:\n",
        "      diaNascimento=int(input(\"Digite o numero do seu dia de nascimento:\"))\n",
        "      if diaNascimento < 1:\n",
        "        print(\"Dia de nascimento invalido\")\n",
        "      elif (mesNascimento == 1 or mesNascimento == 3 or mesNascimento == 5 or mesNascimento == 7 or mesNascimento == 8 or mesNascimento == 10 or mesNascimento == 12) and (diaNascimento > 31):\n",
        "        print(\"Dia de nascimento invalido\")\n",
        "      elif (mesNascimento == 4 or mesNascimento == 6 or mesNascimento == 9 or mesNascimento == 11) and (diaNascimento > 30):\n",
        "        print(\"Dia de nascimento invalido\")\n",
        "      elif (mesNascimento == 2) and (diaNascimento > 29): #não verifica se o ano é bissexto, apenas aceita 29 de fevereiro como valido!\n",
        "        print(\"Dia de nascimento invalido\")\n",
        "      else:\n",
        "        break\n",
        "#Descobrir, pelo dia, se o cliente Ja fez aniversario\n",
        "    if(diaNascimento < date.today().day):\n",
        "      print(\"Venda Liberada\")\n",
        "    elif(diaNascimento > date.today().day):\n",
        "      print(\"Venda Bloqueada\")\n",
        "    else:\n",
        "      print(\"Feliz Aniversario! Pode encher a cara!!!\")\n",
        "\n"
      ]
    },
    {
      "cell_type": "code",
      "source": [],
      "metadata": {
        "id": "p5aNBVLXIdV5"
      },
      "execution_count": null,
      "outputs": []
    }
  ]
}