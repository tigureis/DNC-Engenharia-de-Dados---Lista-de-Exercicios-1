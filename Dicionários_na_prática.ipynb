{
  "nbformat": 4,
  "nbformat_minor": 0,
  "metadata": {
    "colab": {
      "provenance": [],
      "include_colab_link": true
    },
    "kernelspec": {
      "name": "python3",
      "display_name": "Python 3"
    },
    "language_info": {
      "name": "python"
    }
  },
  "cells": [
    {
      "cell_type": "markdown",
      "metadata": {
        "id": "view-in-github",
        "colab_type": "text"
      },
      "source": [
        "<a href=\"https://colab.research.google.com/github/tigureis/DNC-Engenharia-de-Dados---Lista-de-Exercicios-1/blob/main/Dicion%C3%A1rios_na_pr%C3%A1tica.ipynb\" target=\"_parent\"><img src=\"https://colab.research.google.com/assets/colab-badge.svg\" alt=\"Open In Colab\"/></a>"
      ]
    },
    {
      "cell_type": "markdown",
      "metadata": {
        "id": "dsu3uJksx-M7"
      },
      "source": [
        "![dnc.png](data:image/png;base64,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)"
      ]
    },
    {
      "cell_type": "markdown",
      "metadata": {
        "id": "Mn_vGqswyBr0"
      },
      "source": [
        "<br>Consultor: Everton Menezes </br>"
      ]
    },
    {
      "cell_type": "markdown",
      "metadata": {
        "id": "99zA4INuNrJx"
      },
      "source": [
        "# Dicionários\n",
        "Os dicionários são listas com índices textuais."
      ]
    },
    {
      "cell_type": "markdown",
      "metadata": {
        "id": "GZhm7ESUUr1N"
      },
      "source": [
        "Os dicionários são estruturas de dados semelhantes às listas, porém, as posições ao invés de serem numéricas são chaves.\n",
        "\n",
        "<h3> Lista </h3>\n",
        "\n",
        "```\n",
        "lista = ['Everton', 29, 'São José']\n",
        "```\n",
        "\n",
        "<h3> Dicionários </h3>\n",
        "\n",
        "```\n",
        "dicio = {'nome': 'Everton',\n",
        "        'idade': 29,\n",
        "       'cidade': 'São José'}\n",
        "```\n",
        "\n",
        "<h3> Exemplo 1 </h3>\n",
        "\n",
        "Declare e imprima as duas listas acima exatamente como estão.\n"
      ]
    },
    {
      "cell_type": "code",
      "metadata": {
        "colab": {
          "base_uri": "https://localhost:8080/"
        },
        "id": "fQaspB-YGbno",
        "outputId": "6082c74d-22b1-44f3-a388-e571d1a9e276"
      },
      "source": [
        "#Lista:\n",
        "lista = ['Everton', 29, 'São José']\n",
        "\n",
        "#Dicionário equivalente.\n",
        "\n",
        "dicio = {'nome': 'Everton',\n",
        "        'idade': 29,\n",
        "       'cidade': 'São José'}\n",
        "\n",
        "print(lista)\n",
        "print(dicio)"
      ],
      "execution_count": 3,
      "outputs": [
        {
          "output_type": "stream",
          "name": "stdout",
          "text": [
            "['Everton', 29, 'São José']\n",
            "{'nome': 'Everton', 'idade': 29, 'cidade': 'São José'}\n"
          ]
        }
      ]
    },
    {
      "cell_type": "markdown",
      "metadata": {
        "id": "6MV4Lfcno0bp"
      },
      "source": [
        "Comparando os dois resultados vemos que os índices numéricos são substituídos por chaves textuais:\n",
        "\n",
        "```\n",
        "              [0]        [1]            [2]\n",
        "lista = [ 'Everton' ,     29      , 'São José']\n",
        "```\n",
        "Então para acessarmos os valores exatos da lista que a gente deseja é necessário saber o que cada posição significa senão faremos análises erradas.\n",
        "\n",
        "Já no dicionário fica assim:\n",
        "```\n",
        "            'nome':     'idade':     'cidade:\n",
        "dicio = { 'Everton' ,     29      , 'São José'}\n",
        "```\n",
        "Muito similar às colunas de uma tabela ou banco de dados.\n"
      ]
    },
    {
      "cell_type": "markdown",
      "metadata": {
        "id": "mSCSNOjdo0Rk"
      },
      "source": [
        "## Estrutura de um Dicionário.\n",
        "\n",
        "A estrutura de um dicionário é baseada em 3 pontos importantes: **keys**, **values** e **items**"
      ]
    },
    {
      "cell_type": "markdown",
      "metadata": {
        "id": "vtc8ZNF9qpRq"
      },
      "source": [
        "Vamos observar de novo a dicionário de exemplo:\n",
        "\n",
        "```\n",
        "         'keys'  : values\n",
        "dicio = {\n",
        "         'nome'  : 'Everton',       -> items\n",
        "         'idade' :  29,\n",
        "         'cidade': 'São José'\n",
        "        }\n",
        "```\n",
        "> As `keys` são as chaves, o que substituem as posições de uma lista. Quando quisermos acessar um valor de um dicionário é dessa chave que temos que lembrar. Assim como num Banco de Dados são as colunas que vamos acessar que precisamos saber os nomes. </br>\n",
        "> Os `values` são os valores, o equivalente aos valores dentro de uma lista. São as informações importantes do objeto que queremos acessar e fazer análises. </br>\n",
        "> Os `items` são o conjunto de `key + value`, uma novidade dos dicionários que irão nos ajudar nos loopings."
      ]
    },
    {
      "cell_type": "markdown",
      "metadata": {
        "id": "MY1xIh9ctB-2"
      },
      "source": [
        "## Manipulando um Dicionário"
      ]
    },
    {
      "cell_type": "markdown",
      "metadata": {
        "id": "4z8-G4LtxUW3"
      },
      "source": [
        "<h2> Declarando um dicionário </h2>\n",
        "\n",
        "Todo dicionário é declarado pelas `{ }`\n",
        "\n",
        "* Declarando um dicionário vazio:\n",
        "```\n",
        "dic1 = {}\n",
        "dic2 = dict()\n",
        "```\n",
        "* Declarando um dicionário já preenchido.\n",
        "```\n",
        "dic3 = {\n",
        "        'key1' : 'value1',\n",
        "        'key2' : 'value2',\n",
        "        'key3' : 'value3'\n",
        "       }\n",
        "```\n",
        "<h3> Pontos de atenção na declaração </h3>\n",
        "\n",
        "* todas as `keys` são strings e, portanto, devem estar entre aspas\n",
        "* os `values` podem ser qualquer tipo de dado e/ou estrutura: `str`, `int`, `float`, `bool`, `list`, `tuple`, `dict`, ...\n",
        "* a declaração direta de valor para uma chave sempre é feita com `:`\n",
        "* embora não seja necessário é comum declarar um dicionário dando \"*enter*\" entre cada chave para ficar visualmente mais fácil de ler no programa.\n",
        "\n",
        "<h3> Exemplo 2 </h3>\n",
        "Imprima os três dicionários acima e veja se você declarou corretamente."
      ]
    },
    {
      "cell_type": "code",
      "metadata": {
        "colab": {
          "base_uri": "https://localhost:8080/"
        },
        "id": "e7XMflNuzMEr",
        "outputId": "878cc2ee-ff38-46ae-f320-9dc8feabc327"
      },
      "source": [
        "# Declarando dicionários\n",
        "dic1 = {}\n",
        "dic2 = dict()\n",
        "dic3 = {\n",
        "      'key1' : 'value1',\n",
        "      'key2' : 'value2',\n",
        "      'key3' : 'value3'\n",
        "     }\n",
        "# Imprimindo\n",
        "print(dic1)\n",
        "print(dic2)\n",
        "print(dic3)"
      ],
      "execution_count": 5,
      "outputs": [
        {
          "output_type": "stream",
          "name": "stdout",
          "text": [
            "{}\n",
            "{}\n",
            "{'key1': 'value1', 'key2': 'value2', 'key3': 'value3'}\n"
          ]
        }
      ]
    },
    {
      "cell_type": "markdown",
      "metadata": {
        "id": "vDe1gxYrzgrs"
      },
      "source": [
        "Assim como nas listas a declaração de dicionários vazios são ótimos para quando os valores do dicionário precisam ser declarados pelo usuário ou lidos de alguma fonte externa.\n",
        "\n",
        "<h2> Acessando os valores </h2>\n",
        "\n",
        "```\n",
        "dicio['key'] == value\n",
        "```\n",
        "Acessar os valores de um dicionário é muito similar a acessar os valores de uma lista. Só que no lugar da `posição` usamos as `chaves`\n",
        "\n",
        "<h3> Exemplo 3 </h3>\n",
        "Dado o dicionário abaixo acesse cada um de seus valores.\n",
        "\n",
        "```\n",
        "pessoa = {\n",
        "         'nome'  : 'Everton',\n",
        "         'idade' :  29,\n",
        "         'cidade': 'São José'\n",
        "}\n",
        "```"
      ]
    },
    {
      "cell_type": "code",
      "metadata": {
        "colab": {
          "base_uri": "https://localhost:8080/"
        },
        "id": "3UWk9Qbt0ZLT",
        "outputId": "3d3772aa-dc76-459e-cb5f-12cb2287217c"
      },
      "source": [
        "# Declarando dicionário:\n",
        "pessoa = {\n",
        "         'nome'  : 'Everton',\n",
        "         'idade' :  29,\n",
        "         'cidade': 'São José'\n",
        "}\n",
        "\n",
        "# Acessando os valores:\n",
        "print(pessoa['nome'])\n",
        "print(pessoa['idade'])\n",
        "print(pessoa['cidade'])"
      ],
      "execution_count": 6,
      "outputs": [
        {
          "output_type": "stream",
          "name": "stdout",
          "text": [
            "Everton\n",
            "29\n",
            "São José\n"
          ]
        }
      ]
    },
    {
      "cell_type": "code",
      "source": [],
      "metadata": {
        "id": "kt0Cb4RXM44S"
      },
      "execution_count": null,
      "outputs": []
    },
    {
      "cell_type": "markdown",
      "metadata": {
        "id": "9VlHNRy00nV3"
      },
      "source": [
        "<h2> Modificando os valores </h2>\n",
        "\n",
        "```\n",
        "dicio['key'] = value\n",
        "```\n",
        "Similar à listas, se atribuirmos valor a uma posição/chave já modificamos o valor da chave do dicionário.\n",
        "\n",
        "<h3> Exemplo 4 </h3>\n",
        "Usando o mesmo dicionário: `pessoa`, modifique a chave `'cidade'` para `'São Paulo'` e imprima o resultado."
      ]
    },
    {
      "cell_type": "code",
      "metadata": {
        "colab": {
          "base_uri": "https://localhost:8080/"
        },
        "id": "Wn1f-PUd1Qx5",
        "outputId": "2eed9333-b7e7-4d94-a15c-4b7c171a8c14"
      },
      "source": [
        "# Modificando o valor:\n",
        "pessoa[\"cidade\"] = \"São Paulo\"\n",
        "\n",
        "# Imprimindo valores:\n",
        "print(pessoa)\n",
        "\n",
        "# Imprimindo valores:\n"
      ],
      "execution_count": 7,
      "outputs": [
        {
          "output_type": "stream",
          "name": "stdout",
          "text": [
            "{'nome': 'Everton', 'idade': 29, 'cidade': 'São Paulo'}\n"
          ]
        }
      ]
    },
    {
      "cell_type": "markdown",
      "metadata": {
        "id": "7IjS-9ls1p90"
      },
      "source": [
        "<h2> Criando nova chave </h2>\n",
        "\n",
        "```\n",
        "dicio['key'] = value\n",
        "```\n",
        "Para criar uma nova chave é exatamente igual a modificar uma chave. A partir do momento que atribuimos um valor o Python verifica se aquela chave já existe no dicionário. Caso não exista ele cria uma nova automaticamente.\n",
        "\n",
        "<h3> Exemplo 5 </h3>\n",
        "\n",
        "Usando o mesmo dicionário: `pessoa`, crie uma chave `'peso'` com valor de `65` e imprima o resultado."
      ]
    },
    {
      "cell_type": "code",
      "metadata": {
        "colab": {
          "base_uri": "https://localhost:8080/"
        },
        "id": "BckVwl-a2KhQ",
        "outputId": "cc9c8cd9-9bb7-4106-88f7-d4265ba47854"
      },
      "source": [
        "# Criando uma chave:\n",
        "pessoa[\"peso\"] = 65\n",
        "\n",
        "# Imprimindo valores:\n",
        "print(pessoa)\n",
        "\n",
        "# Imprimindo valores:\n"
      ],
      "execution_count": 8,
      "outputs": [
        {
          "output_type": "stream",
          "name": "stdout",
          "text": [
            "{'nome': 'Everton', 'idade': 29, 'cidade': 'São Paulo', 'peso': 65}\n"
          ]
        }
      ]
    },
    {
      "cell_type": "markdown",
      "metadata": {
        "id": "Fo46GxPM2SzU"
      },
      "source": [
        "<h2> CUIDADO na declaração de novas chaves </h2>\n",
        "\n",
        "O Python é *Case Sensitive*, ou seja, se você tentar modificar o valor de uma chave mas não colocar o nome da chave exatamente igual você acabará criando uma nova chave.\n",
        "\n",
        "<h4> Sempre teste seus programas conforme for codando!!! </h4>\n",
        "\n",
        "<h3> Exemplo 6 </h3>\n",
        "\n",
        "Usando o mesmo dicionário: `pessoa`, crie uma chave `'Cidade'` com valor de `'São José'` e imprima o dicionário completo.\n"
      ]
    },
    {
      "cell_type": "code",
      "metadata": {
        "colab": {
          "base_uri": "https://localhost:8080/"
        },
        "id": "t5HIHPz-275n",
        "outputId": "1ac5f951-630f-4928-d3a9-1127eb15c00a"
      },
      "source": [
        "# Criando uma chave:\n",
        "pessoa[\"Cidade\"] = \"São José\"\n",
        "\n",
        "# Imprimindo valores:\n",
        "print(pessoa)"
      ],
      "execution_count": 10,
      "outputs": [
        {
          "output_type": "stream",
          "name": "stdout",
          "text": [
            "{'nome': 'Everton', 'idade': 29, 'cidade': 'São Paulo', 'peso': 65, 'Cidade': 'São José'}\n"
          ]
        }
      ]
    },
    {
      "cell_type": "markdown",
      "metadata": {
        "id": "uN36AhyW3IkN"
      },
      "source": [
        "Repare que agora temos 2 chaves \"similares\". Siga sempre o mesmo padrão de criação de nome de variáveis, listas, chaves, dicionários e etc para reduzir esse risco.\n",
        "\n",
        "Sempre analise as atuais chaves de um objeto antes de editá-lo de qualquer maneira.\n",
        "\n",
        "<h2> Deletando uma chave com seu valor </h2>\n",
        "\n",
        "```\n",
        "del dicio['chave']\n",
        "```\n",
        "Muito similar ao que fazíamos em listas, podemos usar o comando `del`\n",
        "\n",
        "<h3> Exemplo 7 </h3>\n",
        "\n",
        "Usando o mesmo dicionário: `pessoa` , delete a chave `'Cidade'` e imprima o dicionário completo."
      ]
    },
    {
      "cell_type": "code",
      "metadata": {
        "colab": {
          "base_uri": "https://localhost:8080/"
        },
        "id": "K99JuwZS39RZ",
        "outputId": "c7daf753-6454-4af3-c257-305ed47c3d60"
      },
      "source": [
        "# Deletando uma chave:\n",
        "del pessoa[\"Cidade\"]\n",
        "\n",
        "# Imprimindo valores:\n",
        "print(pessoa)"
      ],
      "execution_count": 12,
      "outputs": [
        {
          "output_type": "stream",
          "name": "stdout",
          "text": [
            "{'nome': 'Everton', 'idade': 29, 'cidade': 'São Paulo', 'peso': 65}\n"
          ]
        }
      ]
    },
    {
      "cell_type": "markdown",
      "metadata": {
        "id": "W8dv8FqsAF8r"
      },
      "source": [
        "<h2> Acessando o dicionário </h2>\n",
        "\n",
        "```\n",
        "dicio          #dicionário completo\n",
        "dicio.values()  #somente os valores do dicionário\n",
        "dicio.keys()   #somente as chaves do dicionário\n",
        "dicio.items()  #chaves + valores do dicionário (usado em loopings)\n",
        "```\n",
        "Como visto anteriormente, os dicionários possuem 3 itens principais, e usaremos eles para acessar parâmetros específicos dos dicionários.\n",
        "\n",
        "<h3> Exemplo 8 </h3>\n",
        "\n",
        "Usando o mesmo dicionário: `pessoa` ,imprima cada um dos itens acima."
      ]
    },
    {
      "cell_type": "code",
      "metadata": {
        "colab": {
          "base_uri": "https://localhost:8080/"
        },
        "id": "YBvEEABIA4wl",
        "outputId": "5222bfb8-1ef7-43b5-94ed-d2e938cf03db"
      },
      "source": [
        "#Imprimindo valores\n",
        "print(pessoa)\n",
        "print(pessoa.values())\n",
        "print(pessoa.keys())\n",
        "print(pessoa.items())"
      ],
      "execution_count": 14,
      "outputs": [
        {
          "output_type": "stream",
          "name": "stdout",
          "text": [
            "{'nome': 'Everton', 'idade': 29, 'cidade': 'São Paulo', 'peso': 65}\n",
            "dict_values(['Everton', 29, 'São Paulo', 65])\n",
            "dict_keys(['nome', 'idade', 'cidade', 'peso'])\n",
            "dict_items([('nome', 'Everton'), ('idade', 29), ('cidade', 'São Paulo'), ('peso', 65)])\n"
          ]
        }
      ]
    },
    {
      "cell_type": "markdown",
      "metadata": {
        "id": "yl5duH1QBl_0"
      },
      "source": [
        "Repare que os 3 itens acabaram ficando parecidos com uma lista. Se usarmos o comando `list()` podemos até converter cada um desses itens em listas para trabalharmos de outras maneiras."
      ]
    },
    {
      "cell_type": "markdown",
      "metadata": {
        "id": "2z9VVPj6B3XI"
      },
      "source": [
        "## Dicionários dentro de for\n",
        "\n",
        "É comum utilizarmos os dicionários dentro de loopings para fazermos as análises. E para isso usaremos os 3 itens vistos acima: `values`,`keys` e `items`"
      ]
    },
    {
      "cell_type": "markdown",
      "metadata": {
        "id": "kSBNuGcuCkBs"
      },
      "source": [
        "<h2> Acessando os valores </h2>\n",
        "\n",
        "```\n",
        "for v in dicio.values():\n",
        "  print(v)\n",
        "```\n",
        "Acima entende-se: *Para cada valor dentro dos valores do dicionário, imprima valor*\n",
        "\n",
        "<h3> Exemplo 9 </h3>\n",
        "\n",
        "Considerando o dicionário `pessoa` imprima cada um de seus valores"
      ]
    },
    {
      "cell_type": "code",
      "metadata": {
        "colab": {
          "base_uri": "https://localhost:8080/"
        },
        "id": "hXqfa7flDCeZ",
        "outputId": "730193ed-e39b-46cd-92b1-52029bef712d"
      },
      "source": [
        "#Imprimindo valores\n",
        "for v in pessoa.values():\n",
        "  print(v)\n"
      ],
      "execution_count": 15,
      "outputs": [
        {
          "output_type": "stream",
          "name": "stdout",
          "text": [
            "Everton\n",
            "29\n",
            "São Paulo\n",
            "65\n"
          ]
        }
      ]
    },
    {
      "cell_type": "markdown",
      "metadata": {
        "id": "cl5af-1KDSxj"
      },
      "source": [
        "<h2> Acessando as chaves </h2>\n",
        "\n",
        "```\n",
        "for k in dicio.keys():\n",
        "  print(k)\n",
        "```\n",
        "Acima entende-se: *Para cada chave dentro das chaves do dicionário, imprima chave*\n",
        "\n",
        "<h3> Exemplo 10 </h3>\n",
        "\n",
        "Considerando o dicionário `pessoa` imprima cada um de suas chaves"
      ]
    },
    {
      "cell_type": "code",
      "metadata": {
        "colab": {
          "base_uri": "https://localhost:8080/"
        },
        "id": "4OHgzd6FDkG3",
        "outputId": "c3cf8cb1-d21f-4169-f16b-bbbb9b8faf8a"
      },
      "source": [
        "#Imprimindo chaves\n",
        "for k in pessoa.keys():\n",
        "  print(f\"A chave é: {k}\")"
      ],
      "execution_count": 16,
      "outputs": [
        {
          "output_type": "stream",
          "name": "stdout",
          "text": [
            "A chave é: nome\n",
            "A chave é: idade\n",
            "A chave é: cidade\n",
            "A chave é: peso\n"
          ]
        }
      ]
    },
    {
      "cell_type": "markdown",
      "metadata": {
        "id": "BKYDSdbhDyzD"
      },
      "source": [
        "<h2> Acessando os items </h2>\n",
        "\n",
        "```\n",
        "for k, v in dicio.items():\n",
        "  print(k, v)\n",
        "```\n",
        "Acima entende-se: *Para cada chave e valor dentro dos itens do dicionário, imprima chave e valor*\n",
        "\n",
        "<h3> Exemplo 11 </h3>\n",
        "\n",
        "Considerando o dicionário `pessoa` imprima cada uma de suas chaves e respectivos valores."
      ]
    },
    {
      "cell_type": "code",
      "metadata": {
        "colab": {
          "base_uri": "https://localhost:8080/"
        },
        "id": "lmg-hC-fEHba",
        "outputId": "d2212c46-1532-400c-f037-0b61d1212f1b"
      },
      "source": [
        "#Imprimindo chaves e valores\n",
        "for k, v in pessoa.items():\n",
        "  print(f\"{k} é: {v}\")\n",
        "print(\"end\")"
      ],
      "execution_count": 18,
      "outputs": [
        {
          "output_type": "stream",
          "name": "stdout",
          "text": [
            "nome é: Everton\n",
            "idade é: 29\n",
            "cidade é: São Paulo\n",
            "peso é: 65\n",
            "end\n"
          ]
        }
      ]
    },
    {
      "cell_type": "markdown",
      "metadata": {
        "id": "0lNHLBSrEfNv"
      },
      "source": [
        "<h2> Exercício 1 </h2>\n",
        "\n",
        "Dado dicionário abaixo:\n",
        "```\n",
        "cardapio = {\n",
        "            'lanche' : 10.9,\n",
        "            'batata' : 5.5,\n",
        "            'refri' : 3.9\n",
        "}\n",
        "```\n",
        "1. Mostre o cardápio para o usuário\n",
        "2. Pergunte quantos itens ele quer de cada\n",
        "3. Calcule e mostre pra ele o valor total da conta"
      ]
    },
    {
      "cell_type": "code",
      "metadata": {
        "colab": {
          "base_uri": "https://localhost:8080/"
        },
        "id": "srLT4i4JFGgQ",
        "outputId": "573983e9-8ce1-40d4-b54b-924abc315520"
      },
      "source": [
        "# Declarando dicionário\n",
        "cardapio = {\n",
        "            'lanche' : 10.9,\n",
        "            'batata' : 5.5,\n",
        "            'refri' : 3.9\n",
        "}\n",
        "# 1. Mostrando cardápio:\n",
        "print(f\"{'-'*40}\\n- BEM VINDO A LANCHONETE GORDO SAFADO! -\\n{'-'*40}\")\n",
        "\n",
        "for k, v in cardapio.items():\n",
        "  print(f\"{'-'*40}\\n- {k} {'-'*(31-len(k)-len(str(v)))} R${v:.2f} -\\n{'-'*40}\")\n",
        "\n",
        "\n",
        "# 2. Perguntando quantos itens ele quer de cada.\n",
        "valorTotal=0\n",
        "for k, v in cardapio.items():\n",
        "  qntPedida=int(input(f\"\\n{k} custa R${v:.2f}\\nQuantos voce quer?\\n\"))\n",
        "  valorAtual=qntPedida*v\n",
        "  valorTotal=valorTotal+valorAtual\n",
        "  print(f\"\\nVocê pediu {qntPedida} {k} por R${v:.2f}\\nSua conta esta em R${valorTotal:.2f}\\n\")\n",
        "\n",
        "# 3. Calculando o valor total:\n",
        "print(f\"{'-'*40}\\n\\nSeu pedido ficou em R${valorTotal:.2f}\\nPague e vá comer!\")\n",
        "# Imprimindo recibo:\n"
      ],
      "execution_count": 30,
      "outputs": [
        {
          "output_type": "stream",
          "name": "stdout",
          "text": [
            "----------------------------------------\n",
            "- BEM VINDO A LANCHONETE GORDO SAFADO! -\n",
            "----------------------------------------\n",
            "----------------------------------------\n",
            "- lanche --------------------- R$10.90 -\n",
            "----------------------------------------\n",
            "----------------------------------------\n",
            "- batata ---------------------- R$5.50 -\n",
            "----------------------------------------\n",
            "----------------------------------------\n",
            "- refri ----------------------- R$3.90 -\n",
            "----------------------------------------\n",
            "\n",
            "lanche custa R$10.90\n",
            "Quantos voce quer?\n",
            "1\n",
            "\n",
            "Você pediu 1 lanche por R$10.90\n",
            "Sua conta esta em R$10.90\n",
            "\n",
            "\n",
            "batata custa R$5.50\n",
            "Quantos voce quer?\n",
            "1\n",
            "\n",
            "Você pediu 1 batata por R$5.50\n",
            "Sua conta esta em R$16.40\n",
            "\n",
            "\n",
            "refri custa R$3.90\n",
            "Quantos voce quer?\n",
            "1\n",
            "\n",
            "Você pediu 1 refri por R$3.90\n",
            "Sua conta esta em R$20.30\n",
            "\n",
            "----------------------------------------\n",
            "\n",
            "Seu pedido ficou em R$20.30\n",
            "Pague e vá comer!\n"
          ]
        }
      ]
    },
    {
      "cell_type": "markdown",
      "metadata": {
        "id": "0xidZSTxJB0G"
      },
      "source": [
        "## Dicionários dentro de listas\n",
        "\n",
        "Se os dicionários são como se fossem colunas de uma tabela, as listas são como as suas linhas, formando uma tabela completa."
      ]
    },
    {
      "cell_type": "markdown",
      "metadata": {
        "id": "Q8f8wJaWJlRX"
      },
      "source": [
        "<h2> Estrutura </h2>\n",
        "\n",
        "Imaginando uma tabela, temos:\n",
        "\n",
        "```\n",
        "  linhas    'key1':  'key2':  'key3':\n",
        "    [0]     valor11  valor12  valor13\n",
        "    [1]     valor21  valor22  valor23\n",
        "    [2]     valor31  valor32  valor33        \n",
        "\n",
        "```\n",
        "\n",
        "Imaginando que cada linha é uma lista, temos:\n",
        "\n",
        "```\n",
        "lista1 = [value11 , value12 , value13],\n",
        "lista2 = [value21 , value22 , value23],\n",
        "lista3 = [value31 , value32 , value33]\n",
        "```\n",
        "\n",
        "Colocando cada valor e sua respectiva chave dentro dos dicionários, temos:\n",
        "\n",
        "```\n",
        "lista[0] = {'key1': value11, 'key2': value21, 'key3': value31},\n",
        "lista[1] = {'key1': value21, 'key2': value22, 'key3': value32},\n",
        "lista[2] = {'key1': value31, 'key2': value23, 'key3': value33}\n",
        "```\n",
        "\n",
        "Agrupando tudo isso, temos:\n",
        "\n",
        "```\n",
        "lista = [\n",
        "        {'key1': value11, 'key2': value21, 'key3': value31},\n",
        "        {'key1': value21, 'key2': value22, 'key3': value32},\n",
        "        {'key1': value31, 'key2': value23, 'key3': value33}\n",
        "]\n",
        "```\n",
        "\n",
        "<h2> Exemplo 12 </h2>\n",
        "Dada a lista de dicionários abaixo, faça:\n",
        "\n",
        "```\n",
        "pessoas = [\n",
        "          {'nome':'Everton' , 'idade':29 , 'cidade':'São José'},\n",
        "          {'nome':'Thiago' , 'idade':34 , 'cidade':'São Paulo'},\n",
        "          {'nome':'André' , 'idade':22 , 'cidade':'Lorena'}\n",
        "]\n",
        "```\n",
        "\n",
        "1. Imprima cada posição da lista (sem usar for)\n",
        "2. Imprima: o nome da pessoa 1, a idade da pessoa 2, e a cidade da pessoa 3"
      ]
    },
    {
      "cell_type": "code",
      "metadata": {
        "colab": {
          "base_uri": "https://localhost:8080/"
        },
        "id": "4RlGflrvDR72",
        "outputId": "f0b81491-5a74-439a-a4c3-0c8e6e00f390"
      },
      "source": [
        "# Copiando a lista de dicionários:\n",
        "pessoas = [\n",
        "          {'nome':'Everton' , 'idade':29 , 'cidade':'São José'},\n",
        "          {'nome':'Thiago' , 'idade':34 , 'cidade':'São Paulo'},\n",
        "          {'nome':'André' , 'idade':22 , 'cidade':'Lorena'}\n",
        "]\n",
        "# Imprimindo cada lista:\n",
        "print(pessoas)\n",
        "print('-'*40)\n",
        "print(pessoas[0])\n",
        "print(pessoas[1])\n",
        "print(pessoas[2])\n",
        "print('-'*40)\n",
        "# Imprimindo o nome da pessoa 1:\n",
        "print(pessoas[0][\"nome\"])\n",
        "print('-'*40)\n",
        "# Imprimindo o idade da pessoa 2:\n",
        "print(pessoas[0][\"idade\"])\n",
        "print('-'*40)\n",
        "# Imprimindo o cidade da pessoa 3:\n",
        "print(pessoas[0][\"cidade\"])\n",
        "print('-'*40)"
      ],
      "execution_count": 31,
      "outputs": [
        {
          "output_type": "stream",
          "name": "stdout",
          "text": [
            "[{'nome': 'Everton', 'idade': 29, 'cidade': 'São José'}, {'nome': 'Thiago', 'idade': 34, 'cidade': 'São Paulo'}, {'nome': 'André', 'idade': 22, 'cidade': 'Lorena'}]\n",
            "----------------------------------------\n",
            "{'nome': 'Everton', 'idade': 29, 'cidade': 'São José'}\n",
            "{'nome': 'Thiago', 'idade': 34, 'cidade': 'São Paulo'}\n",
            "{'nome': 'André', 'idade': 22, 'cidade': 'Lorena'}\n",
            "----------------------------------------\n",
            "Everton\n",
            "----------------------------------------\n",
            "29\n",
            "----------------------------------------\n",
            "São José\n",
            "----------------------------------------\n"
          ]
        }
      ]
    },
    {
      "cell_type": "markdown",
      "metadata": {
        "id": "N-oL9_92OEKo"
      },
      "source": [
        "### For dentro de For\n",
        "\n",
        "Quando temos listas ou dicionários aninhados, é comum precisarmos rodar for dentro de for para pegar os valores que precisamos, sendo que vai ser: 1 for para cada nível de aninhamento"
      ]
    },
    {
      "cell_type": "markdown",
      "metadata": {
        "id": "b-gn1tryOVY_"
      },
      "source": [
        "<h2> Estrutura </h2>\n",
        "\n",
        "```\n",
        "for l in listas:\n",
        "  print(l)\n",
        "  for k, v in l.items():\n",
        "    print(k, v)\n",
        "```\n",
        "\n",
        "Lê-se: <br>\n",
        "\"*Para cada lista (dentro de listas) imprima lista*\" <br>       \"*Para cada item da lista selecionada imprima chave e valor*\"\n",
        "\n",
        "<h2> Exemplo 13 </h2>\n",
        "\n",
        "Dada a lista: `pessoas` execute a estrutura acima."
      ]
    },
    {
      "cell_type": "code",
      "metadata": {
        "colab": {
          "base_uri": "https://localhost:8080/"
        },
        "id": "zQ9eR-sUPrNh",
        "outputId": "1710581e-75f0-46a0-a5cf-7990b1a01fb4"
      },
      "source": [
        "# montando for:\n",
        "for l in pessoas:\n",
        "  print(l)\n",
        "  for k, v in l.items():\n",
        "    print(k, v)\n",
        "  print('-'*40)"
      ],
      "execution_count": 32,
      "outputs": [
        {
          "output_type": "stream",
          "name": "stdout",
          "text": [
            "{'nome': 'Everton', 'idade': 29, 'cidade': 'São José'}\n",
            "nome Everton\n",
            "idade 29\n",
            "cidade São José\n",
            "----------------------------------------\n",
            "{'nome': 'Thiago', 'idade': 34, 'cidade': 'São Paulo'}\n",
            "nome Thiago\n",
            "idade 34\n",
            "cidade São Paulo\n",
            "----------------------------------------\n",
            "{'nome': 'André', 'idade': 22, 'cidade': 'Lorena'}\n",
            "nome André\n",
            "idade 22\n",
            "cidade Lorena\n",
            "----------------------------------------\n"
          ]
        }
      ]
    },
    {
      "cell_type": "markdown",
      "metadata": {
        "id": "WzBljvCzQvTi"
      },
      "source": [
        "<h2> Exercício 2 </h2>\n",
        "\n",
        "Dada a lista `pessoas`\n",
        "\n",
        "1. Imprima somente os nomes da seguinte forma:\n",
        "\n",
        "O nome da pessoa [1] é : 'valor'\n",
        "\n",
        "2. Imprima as cidades das pessoas que possuem menos de 30 anos:\n",
        "\n",
        "A pessoa [N] tem [idade] anos e o nome dela é [nome] e mora em [cidade]"
      ]
    },
    {
      "cell_type": "code",
      "metadata": {
        "colab": {
          "base_uri": "https://localhost:8080/"
        },
        "id": "r7MS_kOAReSv",
        "outputId": "358ab0bb-7b2a-47ca-de9e-01c55f17d508"
      },
      "source": [
        "# Imprimir somente os nomes:\n",
        "for l in pessoas:\n",
        "  print (f\"O nome da pessoa {pessoas.index(l)+1} é : {l['nome']}\")\n",
        "print('-'*40)\n",
        "\n",
        "\n",
        "# Imprimir os dados de pessoas com menos de 30 anos:\n",
        "for l in pessoas:\n",
        "  if l['idade']<30:\n",
        "    print(f\"A pessoa {pessoas.index(l)+1} tem {l['idade']} anos e o nome dela é {l['nome']} e mora em {l['cidade']}\")\n",
        "  print('-'*40)"
      ],
      "execution_count": 39,
      "outputs": [
        {
          "output_type": "stream",
          "name": "stdout",
          "text": [
            "O nome da pessoa 1 é : Everton\n",
            "O nome da pessoa 2 é : Thiago\n",
            "O nome da pessoa 3 é : André\n",
            "----------------------------------------\n",
            "A pessoa 1 tem 29 anos e o nome dela é Everton e mora em São José\n",
            "----------------------------------------\n",
            "----------------------------------------\n",
            "A pessoa 3 tem 22 anos e o nome dela é André e mora em Lorena\n",
            "----------------------------------------\n"
          ]
        }
      ]
    },
    {
      "cell_type": "markdown",
      "metadata": {
        "id": "a7QwRjiwff4Y"
      },
      "source": [
        "#### Copiando dicionários para listas\n",
        "\n",
        "Quando queremos inserir um dicionário dentro de uma lista, não podemos usar o método do fatiamento para fazer a cópia da lista temporária, então faremos:\n",
        "\n",
        "```\n",
        "lista.append(dicionario.copy())\n",
        "```\n",
        "\n",
        "<h2> Estrutura </h2>\n",
        "\n",
        "```\n",
        "dicio = {}\n",
        "lista = []\n",
        "for d in range(ini, fim):\n",
        "  dicio.['Key1'] = input('Valor1 = ')\n",
        "  dicio.['Key2'] = input('Valor2 = ')\n",
        "  lista.append(dicio.copy())\n",
        "```\n",
        "Assim como nas listas, colocamos os valores inputados pelo usuário num dicionário temporário e a seguir o copiamos para lista.\n",
        "\n",
        "* Não podemos usar: `lista.append(dicio)` pois assim iríamos clonar a lista\n",
        "\n",
        "* Não podemos usar: `lista.append(dicio[:])` pois os dicionários não aceitam append.\n",
        "\n",
        "<h2> Exemplo 14 </h2>\n",
        "\n",
        "Faça um sistema que pergunte e salve numas lista de dicionários o nome e idade de pessoas. Pergunte pro usuário quando ele quer parar (s/n)\n"
      ]
    },
    {
      "cell_type": "code",
      "metadata": {
        "colab": {
          "base_uri": "https://localhost:8080/"
        },
        "id": "GDAsxOKMgj33",
        "outputId": "a01c3b02-8dcc-49ac-8d37-3a4b30da5681"
      },
      "source": [
        "# Declarando lista e dicio vazios\n",
        "dicio = {}\n",
        "lista = []\n",
        "\n",
        "while True:\n",
        "  dicio['nome'] = input(\"Digite o nome: \")\n",
        "  dicio['idade'] = int(input(\"Digite a idade: \"))\n",
        "  lista.append(dicio.copy())\n",
        "  if input(\"Deseja parar? (s/n) \") == \"s\":\n",
        "    break\n",
        "\n",
        "print(lista)"
      ],
      "execution_count": 42,
      "outputs": [
        {
          "output_type": "stream",
          "name": "stdout",
          "text": [
            "Digite o nome: anta\n",
            "Digite a idade: 10\n",
            "Deseja parar? (s/n) n\n",
            "Digite o nome: Bizão\n",
            "Digite a idade: n\n",
            "Deseja parar? (s/n)  n\n",
            "Digite o nome: camelo\n",
            "Digite a idade: 5\n",
            "Deseja parar? (s/n) s\n",
            "[{'nome': 'anta', 'idade': '10'}, {'nome': 'Bizão', 'idade': 'n'}, {'nome': 'camelo', 'idade': '5'}]\n"
          ]
        }
      ]
    },
    {
      "cell_type": "markdown",
      "metadata": {
        "id": "zw88DxguZJRf"
      },
      "source": [
        "# Exercícios"
      ]
    },
    {
      "cell_type": "markdown",
      "metadata": {
        "id": "s7hg_vdWZLu-"
      },
      "source": [
        "<h2> Exercício 1 </h2>\n",
        "\n",
        "1. Crie uma lista de dicionários contendo as notas de todos os alunos de uma sala (5 alunos). No dicionário é para ter os campos:\n",
        "* nome:\n",
        "* nota1:\n",
        "* nota2:\n",
        "* media:\n",
        "* status:\n",
        "\n",
        "2. Peça para o usuário digitar as notas de cada aluno\n",
        "3. Tire a média das notas e adicione no dicionário\n",
        "4. Se média for maior ou igual a 7, coloque \"aprovado\" no status, caso contrário, coloque \"reprovado\"\n",
        "5. Calcule a média das médias e imprima para o professor."
      ]
    },
    {
      "cell_type": "code",
      "metadata": {
        "id": "uZpksmjoiis7",
        "colab": {
          "base_uri": "https://localhost:8080/"
        },
        "outputId": "db912265-1657-4d40-e4c7-50c69f95390f"
      },
      "source": [
        "resultadoFinal = [\n",
        "          {'nome':'Andre' , 'Nota 1': '' , 'Nota 2':'', 'Media':'', 'Status':''},\n",
        "          {'nome':'Bruna' , 'Nota 1': '' , 'Nota 2':'', 'Media':'', 'Status':''},\n",
        "          {'nome':'Carlos' , 'Nota 1': '' , 'Nota 2':'', 'Media':'', 'Status':''},\n",
        "          {'nome':'Diego' , 'Nota 1': '' , 'Nota 2':'', 'Media':'', 'Status':''},\n",
        "          {'nome':'Elisa' , 'Nota 1': '' , 'Nota 2':'', 'Media':'', 'Status':''}\n",
        "]\n",
        "\n",
        "for l in resultadoFinal:\n",
        "  print('-'*40)\n",
        "  l['Nota 1'] = float(input(f\"Digite a nota 1 de {l['nome']}: \"))\n",
        "  l['Nota 2'] = float(input(f\"Digite a nota 2 de {l['nome']}: \"))\n",
        "  l['Media'] = (l['Nota 1']+l['Nota 2'])/2\n",
        "  print(f\"Média de {l['nome']}: {l['Media']}\")\n",
        "  if l['Media']>=7:\n",
        "    l['Status'] = \"Aprovado\"\n",
        "  else:\n",
        "    l['Status'] = \"Reprovado\"\n",
        "\n",
        "print('-'*40)\n",
        "for l in resultadoFinal:\n",
        "  print(l)"
      ],
      "execution_count": 46,
      "outputs": [
        {
          "output_type": "stream",
          "name": "stdout",
          "text": [
            "----------------------------------------\n",
            "Digite a nota 1 de Andre: 5\n",
            "Digite a nota 2 de Andre: 9\n",
            "Média de Andre: 7.0\n",
            "----------------------------------------\n",
            "Digite a nota 1 de Bruna: 7\n",
            "Digite a nota 2 de Bruna: 7\n",
            "Média de Bruna: 7.0\n",
            "----------------------------------------\n",
            "Digite a nota 1 de Carlos: 8\n",
            "Digite a nota 2 de Carlos: 8\n",
            "Média de Carlos: 8.0\n",
            "----------------------------------------\n",
            "Digite a nota 1 de Diego: 1\n",
            "Digite a nota 2 de Diego: 10\n",
            "Média de Diego: 5.5\n",
            "----------------------------------------\n",
            "Digite a nota 1 de Elisa: 2\n",
            "Digite a nota 2 de Elisa: 10\n",
            "Média de Elisa: 6.0\n",
            "----------------------------------------\n",
            "{'nome': 'Andre', 'Nota 1': 5.0, 'Nota 2': 9.0, 'Media': 7.0, 'Status': 'Aprovado'}\n",
            "{'nome': 'Bruna', 'Nota 1': 7.0, 'Nota 2': 7.0, 'Media': 7.0, 'Status': 'Aprovado'}\n",
            "{'nome': 'Carlos', 'Nota 1': 8.0, 'Nota 2': 8.0, 'Media': 8.0, 'Status': 'Aprovado'}\n",
            "{'nome': 'Diego', 'Nota 1': 1.0, 'Nota 2': 10.0, 'Media': 5.5, 'Status': 'Reprovado'}\n",
            "{'nome': 'Elisa', 'Nota 1': 2.0, 'Nota 2': 10.0, 'Media': 6.0, 'Status': 'Reprovado'}\n"
          ]
        }
      ]
    },
    {
      "cell_type": "markdown",
      "metadata": {
        "id": "a_px7HWnijLf"
      },
      "source": [
        "<h2> Exercício 2 </h2>\n",
        "\n",
        "1. Adapte o sistema anterior para que as notas 1 e 2 estejam dentro de uma lista. Então o dicionário irá conter:\n",
        "* nome:\n",
        "* nota: [nota1 nota2]\n",
        "* media:\n",
        "* status:\n",
        "2. ao 5. faça o mesmo do anterior."
      ]
    },
    {
      "cell_type": "code",
      "metadata": {
        "id": "FB4yuHQvjAZw",
        "colab": {
          "base_uri": "https://localhost:8080/"
        },
        "outputId": "5f524b9e-b791-40f8-a218-8621657f2940"
      },
      "source": [
        "resultadoFinal = [\n",
        "          {'nome':'Andre' , 'Nota':[], 'Media':'', 'Status':''},\n",
        "          {'nome':'Bruna' , 'Nota':[], 'Media':'', 'Status':''},\n",
        "          {'nome':'Carlos' , 'Nota':[], 'Media':'', 'Status':''},\n",
        "          {'nome':'Diego' , 'Nota':[], 'Media':'', 'Status':''},\n",
        "          {'nome':'Elisa' , 'Nota':[], 'Media':'', 'Status':''}\n",
        "]\n",
        "\n",
        "for aluno in resultadoFinal:\n",
        "  print('-'*40)\n",
        "  nota1 = float(input(f\"Digite a nota 1 de {aluno['nome']}: \"))\n",
        "  nota2 = float(input(f\"Digite a nota 2 de {aluno['nome']}: \"))\n",
        "  aluno['Nota'] = [nota1, nota2]\n",
        "  aluno['Media'] = sum(aluno['Nota'])/len(aluno['Nota'])\n",
        "  print(f\"Média de {aluno['nome']}: {aluno['Media']}\")\n",
        "  if aluno['Media']>=7:\n",
        "    aluno['Status'] = \"Aprovado\"\n",
        "  else:\n",
        "    aluno['Status'] = \"Reprovado\"\n",
        "\n",
        "print('-'*40)\n",
        "for aluno in resultadoFinal:\n",
        "  print(aluno)"
      ],
      "execution_count": 48,
      "outputs": [
        {
          "output_type": "stream",
          "name": "stdout",
          "text": [
            "----------------------------------------\n",
            "Digite a nota 1 de Andre: 5\n",
            "Digite a nota 2 de Andre: 6\n",
            "Média de Andre: 5.5\n",
            "----------------------------------------\n",
            "Digite a nota 1 de Bruna: 7\n",
            "Digite a nota 2 de Bruna: 8\n",
            "Média de Bruna: 7.5\n",
            "----------------------------------------\n",
            "Digite a nota 1 de Carlos: 9\n",
            "Digite a nota 2 de Carlos: 10\n",
            "Média de Carlos: 9.5\n",
            "----------------------------------------\n",
            "Digite a nota 1 de Diego: 8\n",
            "Digite a nota 2 de Diego: 5\n",
            "Média de Diego: 6.5\n",
            "----------------------------------------\n",
            "Digite a nota 1 de Elisa: 6\n",
            "Digite a nota 2 de Elisa: 6\n",
            "Média de Elisa: 6.0\n",
            "----------------------------------------\n",
            "{'nome': 'Andre', 'Nota': [5.0, 6.0], 'Media': 5.5, 'Status': 'Reprovado'}\n",
            "{'nome': 'Bruna', 'Nota': [7.0, 8.0], 'Media': 7.5, 'Status': 'Aprovado'}\n",
            "{'nome': 'Carlos', 'Nota': [9.0, 10.0], 'Media': 9.5, 'Status': 'Aprovado'}\n",
            "{'nome': 'Diego', 'Nota': [8.0, 5.0], 'Media': 6.5, 'Status': 'Reprovado'}\n",
            "{'nome': 'Elisa', 'Nota': [6.0, 6.0], 'Media': 6.0, 'Status': 'Reprovado'}\n"
          ]
        }
      ]
    },
    {
      "cell_type": "markdown",
      "metadata": {
        "id": "hgElesKdjFJg"
      },
      "source": [
        "<h2> Exercício 3 </h2>\n",
        "\n",
        "Dada os dois dicionários abaixo, calcule a média de preços:\n",
        "\n",
        "```\n",
        "produtos = [ {\n",
        "          'produto': 'maça',\n",
        "          'preco': 2.2\n",
        "          },\n",
        "         {\n",
        "          'produto': 'banana',\n",
        "          'preco': 1.2\n",
        "          } ]\n",
        "everton = {\n",
        "        'cliente': 'Everton'\n",
        "        'compra': [ {\n",
        "                      'produto': 'maça',\n",
        "                      'qtd' = 3\n",
        "                     },\n",
        "                    {\n",
        "                      'produto': 'banana',\n",
        "                      'qtd' = 10\n",
        "                     } ]\n",
        "}\n",
        "```\n",
        "1. Calcule o valor total da compra do Everton\n",
        "2. Imprima a qtd que ele comprou e o que ele comprou\n",
        "3. Imprima o valor total das compras"
      ]
    },
    {
      "cell_type": "code",
      "source": [
        "produtos = [ {\n",
        "          'produto': 'maça',\n",
        "          'preco': 2.2\n",
        "          },\n",
        "         {\n",
        "          'produto': 'banana',\n",
        "          'preco': 1.2\n",
        "          } ]\n",
        "everton = {\n",
        "        'cliente': 'Everton',\n",
        "        'compra': [{\n",
        "                      'produto': 'maça',\n",
        "                      'qtd' : 3\n",
        "                     },\n",
        "                    {\n",
        "                      'produto': 'banana',\n",
        "                      'qtd' : 10\n",
        "                     }]\n",
        "}\n",
        "valorCompra=0\n",
        "for i in everton['compra']:\n",
        "  for j in produtos:\n",
        "    if (i['produto']==j['produto']):\n",
        "      valorItem=i['qtd']*j['preco']\n",
        "      print(f\"{everton['cliente'] } comprou {i['qtd']} {i['produto']} por R${valorItem:.2f}\")\n",
        "      valorCompra=valorCompra+valorItem\n",
        "print(f\"A conta de {everton['cliente'] } ficou em R${valorCompra:.2f}\")\n",
        "\n"
      ],
      "metadata": {
        "colab": {
          "base_uri": "https://localhost:8080/"
        },
        "id": "8RcS6fHLUPwE",
        "outputId": "c9fdaaca-c9e2-43e8-92ec-cfc5cce4bbea"
      },
      "execution_count": 17,
      "outputs": [
        {
          "output_type": "stream",
          "name": "stdout",
          "text": [
            "Everton comprou 3 maça por R$6.60\n",
            "Everton comprou 10 banana por R$12.00\n",
            "A conta de Everton ficou em R$18.60\n"
          ]
        }
      ]
    }
  ]
}